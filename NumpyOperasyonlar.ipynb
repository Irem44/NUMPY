{
 "cells": [
  {
   "cell_type": "code",
   "execution_count": 1,
   "id": "747b48aa",
   "metadata": {},
   "outputs": [],
   "source": [
    "import numpy as np"
   ]
  },
  {
   "cell_type": "code",
   "execution_count": 2,
   "id": "ce0071f4",
   "metadata": {},
   "outputs": [],
   "source": [
    "benim_Dizim=np.arange(0,15)"
   ]
  },
  {
   "cell_type": "code",
   "execution_count": 3,
   "id": "0014f9ec",
   "metadata": {},
   "outputs": [
    {
     "data": {
      "text/plain": [
       "array([ 0,  1,  2,  3,  4,  5,  6,  7,  8,  9, 10, 11, 12, 13, 14])"
      ]
     },
     "execution_count": 3,
     "metadata": {},
     "output_type": "execute_result"
    }
   ],
   "source": [
    "benim_Dizim"
   ]
  },
  {
   "cell_type": "code",
   "execution_count": 4,
   "id": "7986987a",
   "metadata": {},
   "outputs": [],
   "source": [
    "benim_Dizim[2:5]=-2"
   ]
  },
  {
   "cell_type": "code",
   "execution_count": 5,
   "id": "fe0d52cb",
   "metadata": {},
   "outputs": [
    {
     "data": {
      "text/plain": [
       "array([ 0,  1, -2, -2, -2,  5,  6,  7,  8,  9, 10, 11, 12, 13, 14])"
      ]
     },
     "execution_count": 5,
     "metadata": {},
     "output_type": "execute_result"
    }
   ],
   "source": [
    "benim_Dizim"
   ]
  },
  {
   "cell_type": "code",
   "execution_count": 6,
   "id": "167c52ab",
   "metadata": {},
   "outputs": [],
   "source": [
    "#Başka bir dizi oluşturucaz ve o diziden bir parça alıp değiştirdiğimizde ana dizi de de değişim olur.\n",
    "\n",
    "dizi=np.arange(0,20)"
   ]
  },
  {
   "cell_type": "code",
   "execution_count": 7,
   "id": "ca9286b2",
   "metadata": {},
   "outputs": [
    {
     "data": {
      "text/plain": [
       "array([ 0,  1,  2,  3,  4,  5,  6,  7,  8,  9, 10, 11, 12, 13, 14, 15, 16,\n",
       "       17, 18, 19])"
      ]
     },
     "execution_count": 7,
     "metadata": {},
     "output_type": "execute_result"
    }
   ],
   "source": [
    "dizi"
   ]
  },
  {
   "cell_type": "code",
   "execution_count": 8,
   "id": "38884c7e",
   "metadata": {},
   "outputs": [],
   "source": [
    "slicingDizisi=dizi[4:9]"
   ]
  },
  {
   "cell_type": "code",
   "execution_count": 9,
   "id": "51bfa2b2",
   "metadata": {},
   "outputs": [
    {
     "data": {
      "text/plain": [
       "array([4, 5, 6, 7, 8])"
      ]
     },
     "execution_count": 9,
     "metadata": {},
     "output_type": "execute_result"
    }
   ],
   "source": [
    "slicingDizisi"
   ]
  },
  {
   "cell_type": "code",
   "execution_count": 10,
   "id": "8f486d9a",
   "metadata": {},
   "outputs": [],
   "source": [
    "slicingDizisi[:]=200"
   ]
  },
  {
   "cell_type": "code",
   "execution_count": 11,
   "id": "1fffb316",
   "metadata": {},
   "outputs": [
    {
     "data": {
      "text/plain": [
       "array([200, 200, 200, 200, 200])"
      ]
     },
     "execution_count": 11,
     "metadata": {},
     "output_type": "execute_result"
    }
   ],
   "source": [
    "slicingDizisi"
   ]
  },
  {
   "cell_type": "code",
   "execution_count": 12,
   "id": "099a2380",
   "metadata": {},
   "outputs": [
    {
     "data": {
      "text/plain": [
       "array([  0,   1,   2,   3, 200, 200, 200, 200, 200,   9,  10,  11,  12,\n",
       "        13,  14,  15,  16,  17,  18,  19])"
      ]
     },
     "execution_count": 12,
     "metadata": {},
     "output_type": "execute_result"
    }
   ],
   "source": [
    "dizi\n",
    "#Buradan gördük ki ana dizi de etkilendi."
   ]
  },
  {
   "cell_type": "code",
   "execution_count": 13,
   "id": "c729334a",
   "metadata": {},
   "outputs": [],
   "source": [
    "# Bu durumu önlemek için \"COPY\" kullanılır!"
   ]
  },
  {
   "cell_type": "code",
   "execution_count": 14,
   "id": "8d90c090",
   "metadata": {},
   "outputs": [],
   "source": [
    "ornekDizi=np.arange(0,30)"
   ]
  },
  {
   "cell_type": "code",
   "execution_count": 15,
   "id": "71e5a914",
   "metadata": {},
   "outputs": [],
   "source": [
    "ornekDiziCopy=ornekDizi.copy()"
   ]
  },
  {
   "cell_type": "code",
   "execution_count": 16,
   "id": "fa12ffe5",
   "metadata": {},
   "outputs": [
    {
     "data": {
      "text/plain": [
       "array([ 0,  1,  2,  3,  4,  5,  6,  7,  8,  9, 10, 11, 12, 13, 14, 15, 16,\n",
       "       17, 18, 19, 20, 21, 22, 23, 24, 25, 26, 27, 28, 29])"
      ]
     },
     "execution_count": 16,
     "metadata": {},
     "output_type": "execute_result"
    }
   ],
   "source": [
    "ornekDiziCopy"
   ]
  },
  {
   "cell_type": "code",
   "execution_count": 17,
   "id": "08083fdc",
   "metadata": {},
   "outputs": [],
   "source": [
    "slicingislem=ornekDiziCopy[4:10]"
   ]
  },
  {
   "cell_type": "code",
   "execution_count": 18,
   "id": "252cda7d",
   "metadata": {},
   "outputs": [],
   "source": [
    "slicingislem[:]=1700"
   ]
  },
  {
   "cell_type": "code",
   "execution_count": 19,
   "id": "b70619d9",
   "metadata": {},
   "outputs": [
    {
     "data": {
      "text/plain": [
       "array([1700, 1700, 1700, 1700, 1700, 1700])"
      ]
     },
     "execution_count": 19,
     "metadata": {},
     "output_type": "execute_result"
    }
   ],
   "source": [
    "slicingislem"
   ]
  },
  {
   "cell_type": "code",
   "execution_count": 20,
   "id": "21cc0d54",
   "metadata": {},
   "outputs": [
    {
     "data": {
      "text/plain": [
       "array([   0,    1,    2,    3, 1700, 1700, 1700, 1700, 1700, 1700,   10,\n",
       "         11,   12,   13,   14,   15,   16,   17,   18,   19,   20,   21,\n",
       "         22,   23,   24,   25,   26,   27,   28,   29])"
      ]
     },
     "execution_count": 20,
     "metadata": {},
     "output_type": "execute_result"
    }
   ],
   "source": [
    "ornekDiziCopy"
   ]
  },
  {
   "cell_type": "code",
   "execution_count": 21,
   "id": "212b4410",
   "metadata": {},
   "outputs": [
    {
     "data": {
      "text/plain": [
       "array([ 0,  1,  2,  3,  4,  5,  6,  7,  8,  9, 10, 11, 12, 13, 14, 15, 16,\n",
       "       17, 18, 19, 20, 21, 22, 23, 24, 25, 26, 27, 28, 29])"
      ]
     },
     "execution_count": 21,
     "metadata": {},
     "output_type": "execute_result"
    }
   ],
   "source": [
    "ornekDizi"
   ]
  },
  {
   "cell_type": "markdown",
   "id": "9fab4789",
   "metadata": {},
   "source": [
    "##"
   ]
  },
  {
   "cell_type": "markdown",
   "id": "8719597c",
   "metadata": {},
   "source": [
    "## Matrix"
   ]
  },
  {
   "cell_type": "code",
   "execution_count": 22,
   "id": "a2e7714c",
   "metadata": {},
   "outputs": [],
   "source": [
    "yeniDizi=[[10,20,30,40],[50,60,70,80]]"
   ]
  },
  {
   "cell_type": "code",
   "execution_count": 23,
   "id": "e3e84599",
   "metadata": {},
   "outputs": [
    {
     "data": {
      "text/plain": [
       "[[10, 20, 30, 40], [50, 60, 70, 80]]"
      ]
     },
     "execution_count": 23,
     "metadata": {},
     "output_type": "execute_result"
    }
   ],
   "source": [
    "yeniDizi"
   ]
  },
  {
   "cell_type": "code",
   "execution_count": 24,
   "id": "b07d01e1",
   "metadata": {},
   "outputs": [],
   "source": [
    "npDizi=np.array(yeniDizi)"
   ]
  },
  {
   "cell_type": "code",
   "execution_count": 25,
   "id": "d75f07b9",
   "metadata": {},
   "outputs": [
    {
     "data": {
      "text/plain": [
       "array([[10, 20, 30, 40],\n",
       "       [50, 60, 70, 80]])"
      ]
     },
     "execution_count": 25,
     "metadata": {},
     "output_type": "execute_result"
    }
   ],
   "source": [
    "npDizi"
   ]
  },
  {
   "cell_type": "code",
   "execution_count": 26,
   "id": "663e776a",
   "metadata": {},
   "outputs": [
    {
     "data": {
      "text/plain": [
       "array([[10, 20, 30, 40],\n",
       "       [50, 60, 70, 80]])"
      ]
     },
     "execution_count": 26,
     "metadata": {},
     "output_type": "execute_result"
    }
   ],
   "source": [
    "npDizi[0:2]"
   ]
  },
  {
   "cell_type": "code",
   "execution_count": 27,
   "id": "7457e293",
   "metadata": {},
   "outputs": [
    {
     "data": {
      "text/plain": [
       "array([[10, 20, 30, 40]])"
      ]
     },
     "execution_count": 27,
     "metadata": {},
     "output_type": "execute_result"
    }
   ],
   "source": [
    "npDizi[0:1]"
   ]
  },
  {
   "cell_type": "code",
   "execution_count": 28,
   "id": "029b2713",
   "metadata": {},
   "outputs": [
    {
     "data": {
      "text/plain": [
       "array([30, 70])"
      ]
     },
     "execution_count": 28,
     "metadata": {},
     "output_type": "execute_result"
    }
   ],
   "source": [
    "npDizi[0:,2]\n",
    "#0. satırdan başla ve 2.indeklerini al"
   ]
  },
  {
   "cell_type": "code",
   "execution_count": 29,
   "id": "de3d7f81",
   "metadata": {},
   "outputs": [
    {
     "data": {
      "text/plain": [
       "array([[70, 80]])"
      ]
     },
     "execution_count": 29,
     "metadata": {},
     "output_type": "execute_result"
    }
   ],
   "source": [
    "npDizi[1:,2:]"
   ]
  },
  {
   "cell_type": "code",
   "execution_count": 30,
   "id": "f5d21eab",
   "metadata": {},
   "outputs": [
    {
     "data": {
      "text/plain": [
       "70"
      ]
     },
     "execution_count": 30,
     "metadata": {},
     "output_type": "execute_result"
    }
   ],
   "source": [
    "npDizi[1,2]"
   ]
  },
  {
   "cell_type": "code",
   "execution_count": 31,
   "id": "e5b53071",
   "metadata": {},
   "outputs": [],
   "source": [
    "yeniListe=[[20,30,40,50],[60,70,80,90],[100,110,120,130]]"
   ]
  },
  {
   "cell_type": "code",
   "execution_count": 32,
   "id": "eeda82ae",
   "metadata": {},
   "outputs": [],
   "source": [
    "npYeniListe=np.array(yeniListe)"
   ]
  },
  {
   "cell_type": "code",
   "execution_count": 33,
   "id": "6acf43de",
   "metadata": {},
   "outputs": [
    {
     "data": {
      "text/plain": [
       "array([[ 20,  30,  40,  50],\n",
       "       [ 60,  70,  80,  90],\n",
       "       [100, 110, 120, 130]])"
      ]
     },
     "execution_count": 33,
     "metadata": {},
     "output_type": "execute_result"
    }
   ],
   "source": [
    "npYeniListe"
   ]
  },
  {
   "cell_type": "code",
   "execution_count": 34,
   "id": "365d5153",
   "metadata": {},
   "outputs": [
    {
     "data": {
      "text/plain": [
       "array([[ 60,  70,  80,  90],\n",
       "       [100, 110, 120, 130],\n",
       "       [ 20,  30,  40,  50]])"
      ]
     },
     "execution_count": 34,
     "metadata": {},
     "output_type": "execute_result"
    }
   ],
   "source": [
    "#Diziden belirli satırları seçer.\n",
    "npYeniListe[[1,2,0]]"
   ]
  },
  {
   "cell_type": "code",
   "execution_count": 35,
   "id": "9a891d4a",
   "metadata": {},
   "outputs": [
    {
     "data": {
      "text/plain": [
       "array([[20, 30, 40, 50],\n",
       "       [20, 30, 40, 50],\n",
       "       [20, 30, 40, 50]])"
      ]
     },
     "execution_count": 35,
     "metadata": {},
     "output_type": "execute_result"
    }
   ],
   "source": [
    "npYeniListe[[0,0,0]]"
   ]
  },
  {
   "cell_type": "code",
   "execution_count": 36,
   "id": "40b33a87",
   "metadata": {},
   "outputs": [
    {
     "data": {
      "text/plain": [
       "array([[ 60,  70,  80,  90],\n",
       "       [ 20,  30,  40,  50],\n",
       "       [100, 110, 120, 130]])"
      ]
     },
     "execution_count": 36,
     "metadata": {},
     "output_type": "execute_result"
    }
   ],
   "source": [
    "npYeniListe[[1,0,2]]"
   ]
  },
  {
   "cell_type": "code",
   "execution_count": 37,
   "id": "08d48f8b",
   "metadata": {},
   "outputs": [],
   "source": [
    "#Bu yapı ile matristen yeni bir matris üretmiş olduk."
   ]
  },
  {
   "cell_type": "markdown",
   "id": "a29e42a2",
   "metadata": {},
   "source": [
    "##"
   ]
  },
  {
   "cell_type": "markdown",
   "id": "241b4c35",
   "metadata": {},
   "source": [
    "### Operasyonlar"
   ]
  },
  {
   "cell_type": "code",
   "execution_count": 38,
   "id": "005b0c0b",
   "metadata": {},
   "outputs": [],
   "source": [
    "benimDizim=np.random.randint(0,100,20)"
   ]
  },
  {
   "cell_type": "code",
   "execution_count": 39,
   "id": "3c029d2b",
   "metadata": {},
   "outputs": [
    {
     "data": {
      "text/plain": [
       "array([77, 75,  1, 67, 25, 46, 44, 66, 24,  6, 30,  8, 17, 93,  6, 10, 24,\n",
       "       28, 80, 14])"
      ]
     },
     "execution_count": 39,
     "metadata": {},
     "output_type": "execute_result"
    }
   ],
   "source": [
    "benimDizim"
   ]
  },
  {
   "cell_type": "code",
   "execution_count": 40,
   "id": "e515771f",
   "metadata": {},
   "outputs": [],
   "source": [
    "degerler=benimDizim>50"
   ]
  },
  {
   "cell_type": "code",
   "execution_count": 41,
   "id": "4452af55",
   "metadata": {},
   "outputs": [
    {
     "data": {
      "text/plain": [
       "array([ True,  True, False,  True, False, False, False,  True, False,\n",
       "       False, False, False, False,  True, False, False, False, False,\n",
       "        True, False])"
      ]
     },
     "execution_count": 41,
     "metadata": {},
     "output_type": "execute_result"
    }
   ],
   "source": [
    "degerler"
   ]
  },
  {
   "cell_type": "code",
   "execution_count": 42,
   "id": "8092bc38",
   "metadata": {},
   "outputs": [
    {
     "data": {
      "text/plain": [
       "array([77, 75, 67, 66, 93, 80])"
      ]
     },
     "execution_count": 42,
     "metadata": {},
     "output_type": "execute_result"
    }
   ],
   "source": [
    " benimDizim[degerler]"
   ]
  },
  {
   "cell_type": "code",
   "execution_count": 43,
   "id": "7d6b727b",
   "metadata": {},
   "outputs": [
    {
     "data": {
      "text/plain": [
       "array([77, 75, 67, 66, 93, 80])"
      ]
     },
     "execution_count": 43,
     "metadata": {},
     "output_type": "execute_result"
    }
   ],
   "source": [
    "benimDizim[benimDizim>50]"
   ]
  },
  {
   "cell_type": "code",
   "execution_count": 44,
   "id": "80f17c03",
   "metadata": {},
   "outputs": [],
   "source": [
    "# Diziler arasında toplama,çıkarma,çarpma,bölme olur"
   ]
  },
  {
   "cell_type": "code",
   "execution_count": 45,
   "id": "fdb69cb1",
   "metadata": {},
   "outputs": [],
   "source": [
    "sonDizi=np.arange(0,10)"
   ]
  },
  {
   "cell_type": "code",
   "execution_count": 46,
   "id": "8a9bfcc1",
   "metadata": {},
   "outputs": [
    {
     "data": {
      "text/plain": [
       "array([0, 1, 2, 3, 4, 5, 6, 7, 8, 9])"
      ]
     },
     "execution_count": 46,
     "metadata": {},
     "output_type": "execute_result"
    }
   ],
   "source": [
    "sonDizi"
   ]
  },
  {
   "cell_type": "code",
   "execution_count": 47,
   "id": "ac841294",
   "metadata": {},
   "outputs": [
    {
     "data": {
      "text/plain": [
       "array([ 0,  2,  4,  6,  8, 10, 12, 14, 16, 18])"
      ]
     },
     "execution_count": 47,
     "metadata": {},
     "output_type": "execute_result"
    }
   ],
   "source": [
    "sonDizi+sonDizi"
   ]
  },
  {
   "cell_type": "code",
   "execution_count": 48,
   "id": "b7bb4303",
   "metadata": {},
   "outputs": [
    {
     "data": {
      "text/plain": [
       "array([ 0,  1,  4,  9, 16, 25, 36, 49, 64, 81])"
      ]
     },
     "execution_count": 48,
     "metadata": {},
     "output_type": "execute_result"
    }
   ],
   "source": [
    "sonDizi*sonDizi"
   ]
  },
  {
   "cell_type": "code",
   "execution_count": 49,
   "id": "09f62e1e",
   "metadata": {},
   "outputs": [
    {
     "data": {
      "text/plain": [
       "array([0, 0, 0, 0, 0, 0, 0, 0, 0, 0])"
      ]
     },
     "execution_count": 49,
     "metadata": {},
     "output_type": "execute_result"
    }
   ],
   "source": [
    "sonDizi-sonDizi\n"
   ]
  },
  {
   "cell_type": "code",
   "execution_count": 50,
   "id": "0c60ee16",
   "metadata": {},
   "outputs": [
    {
     "name": "stderr",
     "output_type": "stream",
     "text": [
      "C:\\Users\\irems\\AppData\\Local\\Temp\\ipykernel_9920\\1954055075.py:1: RuntimeWarning: invalid value encountered in divide\n",
      "  sonDizi/sonDizi\n"
     ]
    },
    {
     "data": {
      "text/plain": [
       "array([nan,  1.,  1.,  1.,  1.,  1.,  1.,  1.,  1.,  1.])"
      ]
     },
     "execution_count": 50,
     "metadata": {},
     "output_type": "execute_result"
    }
   ],
   "source": [
    "sonDizi/sonDizi"
   ]
  },
  {
   "cell_type": "code",
   "execution_count": 51,
   "id": "bc350869",
   "metadata": {},
   "outputs": [
    {
     "data": {
      "text/plain": [
       "array([0.        , 1.        , 1.41421356, 1.73205081, 2.        ,\n",
       "       2.23606798, 2.44948974, 2.64575131, 2.82842712, 3.        ])"
      ]
     },
     "execution_count": 51,
     "metadata": {},
     "output_type": "execute_result"
    }
   ],
   "source": [
    "np.sqrt(sonDizi)"
   ]
  },
  {
   "cell_type": "code",
   "execution_count": 52,
   "id": "e0002e39",
   "metadata": {},
   "outputs": [
    {
     "data": {
      "text/plain": [
       "9"
      ]
     },
     "execution_count": 52,
     "metadata": {},
     "output_type": "execute_result"
    }
   ],
   "source": [
    "np.max(sonDizi)"
   ]
  },
  {
   "cell_type": "code",
   "execution_count": 53,
   "id": "9baaff9a",
   "metadata": {},
   "outputs": [
    {
     "data": {
      "text/plain": [
       "0"
      ]
     },
     "execution_count": 53,
     "metadata": {},
     "output_type": "execute_result"
    }
   ],
   "source": [
    "np.min(sonDizi)"
   ]
  },
  {
   "cell_type": "code",
   "execution_count": null,
   "id": "33449ca9",
   "metadata": {},
   "outputs": [],
   "source": []
  }
 ],
 "metadata": {
  "kernelspec": {
   "display_name": "Python 3 (ipykernel)",
   "language": "python",
   "name": "python3"
  },
  "language_info": {
   "codemirror_mode": {
    "name": "ipython",
    "version": 3
   },
   "file_extension": ".py",
   "mimetype": "text/x-python",
   "name": "python",
   "nbconvert_exporter": "python",
   "pygments_lexer": "ipython3",
   "version": "3.11.5"
  }
 },
 "nbformat": 4,
 "nbformat_minor": 5
}
